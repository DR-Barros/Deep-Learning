{
 "cells": [
  {
   "cell_type": "code",
   "execution_count": 1,
   "id": "2b921b3f-4258-4a38-b14c-e9befafbeae8",
   "metadata": {},
   "outputs": [],
   "source": [
    "%matplotlib inline"
   ]
  },
  {
   "cell_type": "markdown",
   "id": "b31b16d0-b04a-4462-9ba6-e20a162691ad",
   "metadata": {},
   "source": [
    "# TAREA 5"
   ]
  },
  {
   "cell_type": "markdown",
   "id": "5ea12857-e114-4b14-b8c6-8c453023f7b1",
   "metadata": {
    "jp-MarkdownHeadingCollapsed": true
   },
   "source": [
    "Usamos un dataset pequeñito de analisis de sentimiento en tweets. Cada tweet viene con una etiqueta entre `positive`, `negative` y `neutral`. **Mismo dataset que por la Tarea 4**. \n",
    "\n",
    "**Vamos a ver como usar:**\n",
    "* Entrenar un modelo con LoRA con `peft` \n",
    "* Comparar las performancias, el tiempo de entrenamiento, y la memoria del GPU usado\n",
    "* Quantizacion con `BitsAndBytes` \n",
    "\n",
    "## Se puede utilizar LLM para ayudarse! \n",
    "* Mirar a [un ejemplo](https://chatgpt.com/share/d534833e-bd2c-40c1-81eb-34818b195cac) de como pedir las respuestas a un LLM. Mejor si entenden lo que hagan.\n",
    "* **Cuidado**: con librerias muy nuevas, se puede ser un poco dificil de usar LLMs\n",
    "\n",
    "#### Para cada entrenamiento \n",
    "* Informa de las curvas de pérdida y precisión en el entrenamiento y la validación.\n",
    "* Detén el entrenamiento en función de los resultados obtenidos en el conjunto de validación.\n",
    "* Utiliza una tasa de aprendizaje pequeña para que puedas ver cómo disminuye la pérdida en las distintas curvas.\n",
    "```"
   ]
  },
  {
   "cell_type": "markdown",
   "id": "c4c69aa7-7fbe-4ea9-a578-d2d1dc469305",
   "metadata": {},
   "source": [
    "## Train a model using LoRA \n",
    "\n",
    "Train a Model using peft and lora, which normal y cannot be run without it. \n",
    "\n",
    "* Load a Large Generative Model such as [`google/flan-t5-xl`](https://huggingface.co/google/flan-t5-xl) or `google/flan-t5-large`\n",
    "* If needed transform the dataset so that the labels are encoded as text\n",
    "* Be careful of encoding well the input text as it is a targeted sentiment analysis task\n",
    "* Use the `peft` library from HuggingFace\n",
    "* See the difference with `model.print_trainable_parameters()`\n",
    "* Train the model with LoRA\n",
    "* Verify it cannot be trained otherwise"
   ]
  },
  {
   "cell_type": "code",
   "execution_count": 1,
   "id": "40d4520d-b32c-4b1d-b532-c3e0ae39243e",
   "metadata": {},
   "outputs": [
    {
     "name": "stderr",
     "output_type": "stream",
     "text": [
      "c:\\Users\\Daniel\\Documents\\GitHub\\Deep-Learning\\venv\\Lib\\site-packages\\tqdm\\auto.py:21: TqdmWarning: IProgress not found. Please update jupyter and ipywidgets. See https://ipywidgets.readthedocs.io/en/stable/user_install.html\n",
      "  from .autonotebook import tqdm as notebook_tqdm\n"
     ]
    }
   ],
   "source": [
    "from peft import LoraConfig, get_peft_model, TaskType\n",
    "import pandas as pd\n",
    "from sklearn.preprocessing import LabelEncoder\n",
    "from sklearn.metrics import accuracy_score\n",
    "import torch\n",
    "from transformers import AutoTokenizer, AutoModelForSequenceClassification, TrainingArguments, Trainer, EvalPrediction, BitsAndBytesConfig\n",
    "from datasets import Dataset\n",
    "import matplotlib.pyplot as plt"
   ]
  },
  {
   "cell_type": "code",
   "execution_count": 2,
   "id": "98684e3c-9dcc-49cb-aad6-3c93cb1a2bd3",
   "metadata": {},
   "outputs": [
    {
     "name": "stdout",
     "output_type": "stream",
     "text": [
      "Device: cuda\n"
     ]
    }
   ],
   "source": [
    "# TODO\n",
    "\n",
    "\n",
    "def read_data(fn):\n",
    "    df = pd.read_csv(fn, sep='\\t')[['tweet', 'label', 'image_id']]\n",
    "    X = df.tweet\n",
    "    y = df.label\n",
    "    return X, y\n",
    "\n",
    "split='train'\n",
    "X_train, y_train = read_data('MModal_Targeted_Sentiment_%s.tsv'%split)\n",
    "split='dev'\n",
    "X_dev, y_dev = read_data('MModal_Targeted_Sentiment_%s.tsv'%split)\n",
    "split='test'\n",
    "X_test, y_test = read_data('MModal_Targeted_Sentiment_%s.tsv'%split)\n",
    "\n",
    "label_encoder = LabelEncoder()\n",
    "label_encoder.fit(y_train)\n",
    "y_train = label_encoder.transform(y_train)\n",
    "y_dev = label_encoder.transform(y_dev)\n",
    "y_test = label_encoder.transform(y_test)\n",
    "\n",
    "\n",
    "device = torch.device(\"cuda\" if torch.cuda.is_available() else \"cpu\")\n",
    "print(\"Device:\", device)\n",
    "\n",
    "# Cargar métrica de accuracy\n",
    "\n",
    "def compute_metrics(eval_preds: EvalPrediction):\n",
    "    predictions = eval_preds.predictions\n",
    "    labels = eval_preds.label_ids\n",
    "    predictions = predictions.argmax(axis=1)\n",
    "    return {\"accuracy\": accuracy_score(labels, predictions)}\n"
   ]
  },
  {
   "cell_type": "code",
   "execution_count": 26,
   "id": "0beb89ed",
   "metadata": {},
   "outputs": [
    {
     "name": "stderr",
     "output_type": "stream",
     "text": [
      "Some weights of T5ForSequenceClassification were not initialized from the model checkpoint at google/flan-t5-large and are newly initialized: ['classification_head.dense.bias', 'classification_head.dense.weight', 'classification_head.out_proj.bias', 'classification_head.out_proj.weight']\n",
      "You should probably TRAIN this model on a down-stream task to be able to use it for predictions and inference.\n"
     ]
    }
   ],
   "source": [
    "# Cargar modelo base y tokenizer\n",
    "model_name = \"google/flan-t5-large\"\n",
    "tokenizer = AutoTokenizer.from_pretrained(model_name)\n",
    "model = AutoModelForSequenceClassification.from_pretrained(model_name, num_labels=3)\n",
    "\n",
    "# Tokenización\n",
    "def tokenize_function(X, y):\n",
    "    inputs = X.tolist()\n",
    "    targets = y.tolist()\n",
    "    model_inputs = tokenizer(inputs, max_length=128, truncation=True, padding=True)\n",
    "    model_inputs[\"labels\"] = torch.tensor(targets)  # Etiquetas como tensor\n",
    "    return model_inputs\n",
    "\n",
    "\n",
    "# Convertir los datos en formato Dataset para HuggingFace\n",
    "train_data = Dataset.from_dict(tokenize_function(X_train, y_train))\n",
    "dev_data = Dataset.from_dict(tokenize_function(X_dev, y_dev))\n",
    "test_data = Dataset.from_dict(tokenize_function(X_test, y_test))\n"
   ]
  },
  {
   "cell_type": "code",
   "execution_count": 27,
   "id": "5bd544f8",
   "metadata": {},
   "outputs": [
    {
     "name": "stdout",
     "output_type": "stream",
     "text": [
      "trainable params: 2,359,296 || all params: 753,662,979 || trainable%: 0.3130\n"
     ]
    }
   ],
   "source": [
    "lora_config = LoraConfig(\n",
    "    task_type=TaskType.SEQ_2_SEQ_LM,\n",
    "    inference_mode=False,\n",
    "    r=8,  \n",
    "    lora_alpha=16,\n",
    "    lora_dropout=0.1,\n",
    ")\n",
    "\n",
    "# Convertir el modelo con LoRA\n",
    "peft_model = get_peft_model(model, lora_config)\n",
    "peft_model.to(device)\n",
    "\n",
    "# Verificar parámetros entrenables\n",
    "peft_model.print_trainable_parameters()"
   ]
  },
  {
   "cell_type": "code",
   "execution_count": 28,
   "id": "90246b22",
   "metadata": {},
   "outputs": [
    {
     "name": "stderr",
     "output_type": "stream",
     "text": [
      "C:\\Users\\Daniel\\AppData\\Local\\Temp\\ipykernel_12600\\1105165952.py:17: FutureWarning: `tokenizer` is deprecated and will be removed in version 5.0.0 for `Trainer.__init__`. Use `processing_class` instead.\n",
      "  trainer = Trainer(\n"
     ]
    }
   ],
   "source": [
    "# Argumentos de entrenamiento\n",
    "training_args = TrainingArguments(\n",
    "    output_dir=\"./results\",  \n",
    "    eval_strategy=\"epoch\",  \n",
    "    learning_rate=2e-5,  \n",
    "    per_device_train_batch_size=8,  \n",
    "    per_device_eval_batch_size=8, \n",
    "    num_train_epochs=3,  \n",
    "    weight_decay=0.01,\n",
    "    logging_dir='./logs',  \n",
    "    logging_steps=100, \n",
    "    save_steps=1000, \n",
    "    eval_steps=500,  \n",
    ")\n",
    "\n",
    "# Trainer\n",
    "trainer = Trainer(\n",
    "    model=peft_model,\n",
    "    args=training_args,\n",
    "    train_dataset=train_data,\n",
    "    eval_dataset=dev_data,\n",
    "    tokenizer=tokenizer,\n",
    ")\n",
    "\n"
   ]
  },
  {
   "cell_type": "code",
   "execution_count": 29,
   "id": "5ab80c3c",
   "metadata": {},
   "outputs": [
    {
     "name": "stderr",
     "output_type": "stream",
     "text": [
      "  4%|▍         | 100/2529 [01:39<39:34,  1.02it/s]"
     ]
    },
    {
     "name": "stdout",
     "output_type": "stream",
     "text": [
      "{'loss': 1.2688, 'grad_norm': 0.1491624414920807, 'learning_rate': 1.9209173586397787e-05, 'epoch': 0.12}\n"
     ]
    },
    {
     "name": "stderr",
     "output_type": "stream",
     "text": [
      "  8%|▊         | 200/2529 [03:20<36:31,  1.06it/s]"
     ]
    },
    {
     "name": "stdout",
     "output_type": "stream",
     "text": [
      "{'loss': 1.2225, 'grad_norm': 0.19904419779777527, 'learning_rate': 1.8418347172795573e-05, 'epoch': 0.24}\n"
     ]
    },
    {
     "name": "stderr",
     "output_type": "stream",
     "text": [
      " 12%|█▏        | 300/2529 [04:58<36:29,  1.02it/s]"
     ]
    },
    {
     "name": "stdout",
     "output_type": "stream",
     "text": [
      "{'loss': 1.1881, 'grad_norm': 0.2660769820213318, 'learning_rate': 1.762752075919336e-05, 'epoch': 0.36}\n"
     ]
    },
    {
     "name": "stderr",
     "output_type": "stream",
     "text": [
      " 16%|█▌        | 400/2529 [06:35<33:49,  1.05it/s]"
     ]
    },
    {
     "name": "stdout",
     "output_type": "stream",
     "text": [
      "{'loss': 1.1166, 'grad_norm': 0.45992666482925415, 'learning_rate': 1.6836694345591145e-05, 'epoch': 0.47}\n"
     ]
    },
    {
     "name": "stderr",
     "output_type": "stream",
     "text": [
      " 20%|█▉        | 500/2529 [08:12<32:05,  1.05it/s]"
     ]
    },
    {
     "name": "stdout",
     "output_type": "stream",
     "text": [
      "{'loss': 1.0493, 'grad_norm': 0.518671989440918, 'learning_rate': 1.604586793198893e-05, 'epoch': 0.59}\n"
     ]
    },
    {
     "name": "stderr",
     "output_type": "stream",
     "text": [
      " 24%|██▎       | 600/2529 [09:47<30:44,  1.05it/s]"
     ]
    },
    {
     "name": "stdout",
     "output_type": "stream",
     "text": [
      "{'loss': 0.9915, 'grad_norm': 0.6446058750152588, 'learning_rate': 1.5255041518386714e-05, 'epoch': 0.71}\n"
     ]
    },
    {
     "name": "stderr",
     "output_type": "stream",
     "text": [
      " 28%|██▊       | 700/2529 [11:22<28:42,  1.06it/s]"
     ]
    },
    {
     "name": "stdout",
     "output_type": "stream",
     "text": [
      "{'loss': 0.9772, 'grad_norm': 0.706205427646637, 'learning_rate': 1.44642151047845e-05, 'epoch': 0.83}\n"
     ]
    },
    {
     "name": "stderr",
     "output_type": "stream",
     "text": [
      " 32%|███▏      | 800/2529 [12:58<27:26,  1.05it/s]"
     ]
    },
    {
     "name": "stdout",
     "output_type": "stream",
     "text": [
      "{'loss': 0.9479, 'grad_norm': 1.001356601715088, 'learning_rate': 1.3673388691182286e-05, 'epoch': 0.95}\n"
     ]
    },
    {
     "name": "stderr",
     "output_type": "stream",
     "text": [
      " 33%|███▎      | 843/2529 [13:38<21:18,  1.32it/s]\n",
      " 33%|███▎      | 843/2529 [14:30<21:18,  1.32it/s]"
     ]
    },
    {
     "name": "stdout",
     "output_type": "stream",
     "text": [
      "{'eval_loss': 0.9696312546730042, 'eval_runtime': 51.3957, 'eval_samples_per_second': 44.712, 'eval_steps_per_second': 5.604, 'epoch': 1.0}\n"
     ]
    },
    {
     "name": "stderr",
     "output_type": "stream",
     "text": [
      " 36%|███▌      | 900/2529 [15:24<25:41,  1.06it/s]  "
     ]
    },
    {
     "name": "stdout",
     "output_type": "stream",
     "text": [
      "{'loss': 0.9439, 'grad_norm': 0.8192620277404785, 'learning_rate': 1.2882562277580073e-05, 'epoch': 1.07}\n"
     ]
    },
    {
     "name": "stderr",
     "output_type": "stream",
     "text": [
      " 40%|███▉      | 1000/2529 [17:00<24:27,  1.04it/s]"
     ]
    },
    {
     "name": "stdout",
     "output_type": "stream",
     "text": [
      "{'loss': 0.9263, 'grad_norm': 0.8552538752555847, 'learning_rate': 1.2091735863977859e-05, 'epoch': 1.19}\n"
     ]
    },
    {
     "name": "stderr",
     "output_type": "stream",
     "text": [
      " 43%|████▎     | 1100/2529 [18:35<22:35,  1.05it/s]"
     ]
    },
    {
     "name": "stdout",
     "output_type": "stream",
     "text": [
      "{'loss': 0.9442, 'grad_norm': 0.8889055848121643, 'learning_rate': 1.1300909450375643e-05, 'epoch': 1.3}\n"
     ]
    },
    {
     "name": "stderr",
     "output_type": "stream",
     "text": [
      " 47%|████▋     | 1200/2529 [20:11<21:08,  1.05it/s]"
     ]
    },
    {
     "name": "stdout",
     "output_type": "stream",
     "text": [
      "{'loss': 0.9693, 'grad_norm': 0.7866940498352051, 'learning_rate': 1.0510083036773429e-05, 'epoch': 1.42}\n"
     ]
    },
    {
     "name": "stderr",
     "output_type": "stream",
     "text": [
      " 51%|█████▏    | 1300/2529 [21:46<19:20,  1.06it/s]"
     ]
    },
    {
     "name": "stdout",
     "output_type": "stream",
     "text": [
      "{'loss': 0.9396, 'grad_norm': 0.9406707286834717, 'learning_rate': 9.719256623171214e-06, 'epoch': 1.54}\n"
     ]
    },
    {
     "name": "stderr",
     "output_type": "stream",
     "text": [
      " 55%|█████▌    | 1400/2529 [23:21<17:51,  1.05it/s]"
     ]
    },
    {
     "name": "stdout",
     "output_type": "stream",
     "text": [
      "{'loss': 0.9451, 'grad_norm': 0.9432662725448608, 'learning_rate': 8.928430209569e-06, 'epoch': 1.66}\n"
     ]
    },
    {
     "name": "stderr",
     "output_type": "stream",
     "text": [
      " 59%|█████▉    | 1500/2529 [24:57<16:13,  1.06it/s]"
     ]
    },
    {
     "name": "stdout",
     "output_type": "stream",
     "text": [
      "{'loss': 0.9415, 'grad_norm': 0.8273940682411194, 'learning_rate': 8.137603795966786e-06, 'epoch': 1.78}\n"
     ]
    },
    {
     "name": "stderr",
     "output_type": "stream",
     "text": [
      " 63%|██████▎   | 1600/2529 [26:32<14:39,  1.06it/s]"
     ]
    },
    {
     "name": "stdout",
     "output_type": "stream",
     "text": [
      "{'loss': 0.938, 'grad_norm': 0.9608413577079773, 'learning_rate': 7.3467773823645715e-06, 'epoch': 1.9}\n"
     ]
    },
    {
     "name": "stderr",
     "output_type": "stream",
     "text": [
      " 67%|██████▋   | 1686/2529 [27:53<10:41,  1.31it/s]\n",
      " 67%|██████▋   | 1686/2529 [28:45<10:41,  1.31it/s]"
     ]
    },
    {
     "name": "stdout",
     "output_type": "stream",
     "text": [
      "{'eval_loss': 0.9615851640701294, 'eval_runtime': 51.5816, 'eval_samples_per_second': 44.551, 'eval_steps_per_second': 5.583, 'epoch': 2.0}\n"
     ]
    },
    {
     "name": "stderr",
     "output_type": "stream",
     "text": [
      " 67%|██████▋   | 1700/2529 [28:59<15:24,  1.12s/it]  "
     ]
    },
    {
     "name": "stdout",
     "output_type": "stream",
     "text": [
      "{'loss': 0.9427, 'grad_norm': 0.7261505126953125, 'learning_rate': 6.555950968762357e-06, 'epoch': 2.02}\n"
     ]
    },
    {
     "name": "stderr",
     "output_type": "stream",
     "text": [
      " 71%|███████   | 1800/2529 [30:34<11:33,  1.05it/s]"
     ]
    },
    {
     "name": "stdout",
     "output_type": "stream",
     "text": [
      "{'loss': 0.9492, 'grad_norm': 0.9920210838317871, 'learning_rate': 5.765124555160143e-06, 'epoch': 2.14}\n"
     ]
    },
    {
     "name": "stderr",
     "output_type": "stream",
     "text": [
      " 75%|███████▌  | 1900/2529 [32:09<09:57,  1.05it/s]"
     ]
    },
    {
     "name": "stdout",
     "output_type": "stream",
     "text": [
      "{'loss': 0.9439, 'grad_norm': 0.885749101638794, 'learning_rate': 4.974298141557929e-06, 'epoch': 2.25}\n"
     ]
    },
    {
     "name": "stderr",
     "output_type": "stream",
     "text": [
      " 79%|███████▉  | 2000/2529 [33:45<08:20,  1.06it/s]"
     ]
    },
    {
     "name": "stdout",
     "output_type": "stream",
     "text": [
      "{'loss': 0.9156, 'grad_norm': 1.2371234893798828, 'learning_rate': 4.183471727955714e-06, 'epoch': 2.37}\n"
     ]
    },
    {
     "name": "stderr",
     "output_type": "stream",
     "text": [
      " 83%|████████▎ | 2100/2529 [35:21<06:48,  1.05it/s]"
     ]
    },
    {
     "name": "stdout",
     "output_type": "stream",
     "text": [
      "{'loss': 0.9477, 'grad_norm': 0.9342100024223328, 'learning_rate': 3.3926453143535e-06, 'epoch': 2.49}\n"
     ]
    },
    {
     "name": "stderr",
     "output_type": "stream",
     "text": [
      " 87%|████████▋ | 2200/2529 [36:56<05:10,  1.06it/s]"
     ]
    },
    {
     "name": "stdout",
     "output_type": "stream",
     "text": [
      "{'loss': 0.9434, 'grad_norm': 1.1589435338974, 'learning_rate': 2.601818900751285e-06, 'epoch': 2.61}\n"
     ]
    },
    {
     "name": "stderr",
     "output_type": "stream",
     "text": [
      " 91%|█████████ | 2300/2529 [38:31<03:47,  1.01it/s]"
     ]
    },
    {
     "name": "stdout",
     "output_type": "stream",
     "text": [
      "{'loss': 0.9383, 'grad_norm': 0.9430714845657349, 'learning_rate': 1.8109924871490709e-06, 'epoch': 2.73}\n"
     ]
    },
    {
     "name": "stderr",
     "output_type": "stream",
     "text": [
      " 95%|█████████▍| 2400/2529 [40:09<02:15,  1.05s/it]"
     ]
    },
    {
     "name": "stdout",
     "output_type": "stream",
     "text": [
      "{'loss': 0.9454, 'grad_norm': 1.0028927326202393, 'learning_rate': 1.0201660735468566e-06, 'epoch': 2.85}\n"
     ]
    },
    {
     "name": "stderr",
     "output_type": "stream",
     "text": [
      " 99%|█████████▉| 2500/2529 [41:48<00:27,  1.04it/s]"
     ]
    },
    {
     "name": "stdout",
     "output_type": "stream",
     "text": [
      "{'loss': 0.9259, 'grad_norm': 1.0385990142822266, 'learning_rate': 2.2933965994464219e-07, 'epoch': 2.97}\n"
     ]
    },
    {
     "name": "stderr",
     "output_type": "stream",
     "text": [
      "100%|██████████| 2529/2529 [42:15<00:00,  1.29it/s]\n",
      "100%|██████████| 2529/2529 [43:09<00:00,  1.02s/it]"
     ]
    },
    {
     "name": "stdout",
     "output_type": "stream",
     "text": [
      "{'eval_loss': 0.9586853981018066, 'eval_runtime': 53.1175, 'eval_samples_per_second': 43.263, 'eval_steps_per_second': 5.422, 'epoch': 3.0}\n",
      "{'train_runtime': 2589.1787, 'train_samples_per_second': 7.811, 'train_steps_per_second': 0.977, 'train_loss': 0.9892419277325408, 'epoch': 3.0}\n",
      "Memoria usada en GPU: 3267.23 MB\n"
     ]
    },
    {
     "name": "stderr",
     "output_type": "stream",
     "text": [
      "\n"
     ]
    }
   ],
   "source": [
    "trainer.train()\n",
    "# Comparación de memoria\n",
    "print(f\"Memoria usada en GPU: {torch.cuda.memory_allocated() / 1e6:.2f} MB\")"
   ]
  },
  {
   "cell_type": "code",
   "execution_count": null,
   "id": "3cdfed16",
   "metadata": {},
   "outputs": [
    {
     "data": {
      "image/png": "[encoded data removed]",
      "text/plain": [
       "<Figure size 640x480 with 1 Axes>"
      ]
     },
     "metadata": {},
     "output_type": "display_data"
    }
   ],
   "source": [
    "# Obtener historial del entrenamiento\n",
    "history = trainer.state.log_history\n",
    "\n",
    "# Curvas de pérdida\n",
    "train_loss = [x[\"loss\"] for x in history if \"loss\" in x]\n",
    "eval_loss = [x[\"eval_loss\"] for x in history if \"eval_loss\" in x]\n",
    "steps = list(range(len(train_loss)))\n",
    "\n",
    "plt.plot(steps, train_loss, label=\"Training Loss\")\n",
    "plt.plot(steps[:len(eval_loss)], eval_loss, label=\"Validation Loss\")\n",
    "plt.xlabel(\"Steps\")\n",
    "plt.ylabel(\"Loss\")\n",
    "plt.legend()\n",
    "plt.show()"
   ]
  },
  {
   "cell_type": "markdown",
   "id": "057ceeb3-11db-4855-bb0d-0a5e6fd851b4",
   "metadata": {},
   "source": [
    "### Preguntas\n",
    "\n",
    "**Cual es el principo de LoRA?**\n",
    "* Porque se usan menos parametros?\n",
    "* Que significa el rango del adaptador?\n",
    "\n",
    "**Cuales son las diferencias sin y con usar LoRA?** \n",
    "* Se puede entrenar sin LoRA? \n",
    "* Cae en la memoria?\n",
    "* Es mas lento/rapido?\n",
    "* Como cambian las performancias?"
   ]
  },
  {
   "cell_type": "markdown",
   "id": "92aa8101-9da5-490c-9348-09304cd9911b",
   "metadata": {},
   "source": [
    "**Respuestas**\n",
    "\n",
    "1) LoRA es una técnica para adaptar modelos, para que a la hora de hacer Finetuning se realice con un número mucho menor de parámetros en comparación con el modelo completo. El principio que esta detrás de estop es utilizar aproximaciones de bajo rango, para ajustar solo una parte del modelo.\n",
    "* LoRA usa una aproximación de bajo rango para modificar las matrices de pesos del modelo y en vez de ajustar todos los parámetros, LoRA introduce adaptadores de bajo rango que solo modifican un subconjunto de los pesos del modelo. Esto swe logra mediante la factorización de las actualizaciones de peso en productos de matrices de rango reducido/\n",
    "* El rango en LoRA se refiere al tamaño de las matrices de bajo rango que se utilizan para modificar los pesos del modelo original. Si un adaptador tiene un rango pequeño, significa que solo una pequeña cantidad de parámetros adicionales se están entrenando. La idea detrás de esto es que un rango bajo permite capturar las modificaciones necesarias en las representaciones del modelo con un número significativamente reducido de parámetros, sin perder la capacidad de ajuste.\n",
    "\n",
    "2) La principal diferencia entre entrenar sin y con LoRA es que con LoRA se reduce significativamente la cantidad de parámetros a entrenar y por ende se acelera el entrenamiento y se logra entrenar con menos recursos\n",
    "* La respuesta a esta pregunta depende de los recursos con los que se cuente, pero para una persona común no se podria debido a las necesidades de hardware para entrenar un modelo con un número tan elevado de parámetros lo hace imposible\n",
    "* LoRA generalmente reduce el uso de memoria en comparación con entrenar todos los parámetros del modelo. Esto se debe a que solo se almacenan y se ajustan las matrices de bajo rango, lo que reduce significativamente la cantidad de parámetros entrenables. \n",
    "* LoRA puede ser más rápido que entrenar el modelo completo. Esto es porque solo se entrenan los adaptadores de bajo rango, lo que reduce el costo computacional asociado con el entrenamiento de todos los parámetros del modelo. \n",
    "* LoRA ofrece una solución intermedia entre la eficiencia computacional y el rendimiento. Aunque no siempre alcanza la misma precisión que el entrenamiento completo del modelo, ofrece un buen equilibrio entre eficiencia y rendimiento, especialmente cuando los recursos computacionales son limitados."
   ]
  },
  {
   "cell_type": "markdown",
   "id": "e46ec33a-9909-4dee-a453-839532b2e936",
   "metadata": {},
   "source": [
    "# Load a model using quantization\n",
    "\n",
    "* Use `BitsAndBytes` in order to load a model that you could not load without quantization\n",
    "* Print the quantity of memory the model takes in the GPU in each case (8 bits, 4 bits)"
   ]
  },
  {
   "cell_type": "code",
   "execution_count": 9,
   "id": "b2c6921e",
   "metadata": {},
   "outputs": [
    {
     "name": "stderr",
     "output_type": "stream",
     "text": [
      "Some weights of T5ForSequenceClassification were not initialized from the model checkpoint at google/flan-t5-large and are newly initialized: ['classification_head.dense.bias', 'classification_head.dense.weight', 'classification_head.out_proj.bias', 'classification_head.out_proj.weight']\n",
      "You should probably TRAIN this model on a down-stream task to be able to use it for predictions and inference.\n"
     ]
    },
    {
     "name": "stdout",
     "output_type": "stream",
     "text": [
      "trainable params: 2,359,296 || all params: 753,662,979 || trainable%: 0.3130\n"
     ]
    },
    {
     "name": "stderr",
     "output_type": "stream",
     "text": [
      "C:\\Users\\Daniel\\AppData\\Local\\Temp\\ipykernel_12600\\485435975.py:39: FutureWarning: `tokenizer` is deprecated and will be removed in version 5.0.0 for `Trainer.__init__`. Use `processing_class` instead.\n",
      "  trainer = Trainer(\n",
      "  4%|▍         | 100/2529 [00:40<16:07,  2.51it/s]"
     ]
    },
    {
     "name": "stdout",
     "output_type": "stream",
     "text": [
      "{'loss': 0.8902, 'grad_norm': nan, 'learning_rate': 1.9209173586397787e-05, 'epoch': 0.12}\n"
     ]
    },
    {
     "name": "stderr",
     "output_type": "stream",
     "text": [
      "  8%|▊         | 200/2529 [01:20<15:24,  2.52it/s]"
     ]
    },
    {
     "name": "stdout",
     "output_type": "stream",
     "text": [
      "{'loss': 0.0, 'grad_norm': nan, 'learning_rate': 1.8418347172795573e-05, 'epoch': 0.24}\n"
     ]
    },
    {
     "name": "stderr",
     "output_type": "stream",
     "text": [
      " 12%|█▏        | 300/2529 [02:00<14:50,  2.50it/s]"
     ]
    },
    {
     "name": "stdout",
     "output_type": "stream",
     "text": [
      "{'loss': 0.0, 'grad_norm': nan, 'learning_rate': 1.762752075919336e-05, 'epoch': 0.36}\n"
     ]
    },
    {
     "name": "stderr",
     "output_type": "stream",
     "text": [
      " 16%|█▌        | 400/2529 [02:40<14:08,  2.51it/s]"
     ]
    },
    {
     "name": "stdout",
     "output_type": "stream",
     "text": [
      "{'loss': 0.0, 'grad_norm': nan, 'learning_rate': 1.6836694345591145e-05, 'epoch': 0.47}\n"
     ]
    },
    {
     "name": "stderr",
     "output_type": "stream",
     "text": [
      " 20%|█▉        | 500/2529 [03:21<13:45,  2.46it/s]"
     ]
    },
    {
     "name": "stdout",
     "output_type": "stream",
     "text": [
      "{'loss': 0.0, 'grad_norm': nan, 'learning_rate': 1.604586793198893e-05, 'epoch': 0.59}\n"
     ]
    },
    {
     "name": "stderr",
     "output_type": "stream",
     "text": [
      " 24%|██▎       | 600/2529 [04:02<13:28,  2.39it/s]"
     ]
    },
    {
     "name": "stdout",
     "output_type": "stream",
     "text": [
      "{'loss': 0.0, 'grad_norm': nan, 'learning_rate': 1.5255041518386714e-05, 'epoch': 0.71}\n"
     ]
    },
    {
     "name": "stderr",
     "output_type": "stream",
     "text": [
      " 28%|██▊       | 700/2529 [04:43<12:02,  2.53it/s]"
     ]
    },
    {
     "name": "stdout",
     "output_type": "stream",
     "text": [
      "{'loss': 0.0, 'grad_norm': nan, 'learning_rate': 1.44642151047845e-05, 'epoch': 0.83}\n"
     ]
    },
    {
     "name": "stderr",
     "output_type": "stream",
     "text": [
      " 32%|███▏      | 800/2529 [05:22<11:21,  2.54it/s]"
     ]
    },
    {
     "name": "stdout",
     "output_type": "stream",
     "text": [
      "{'loss': 0.0, 'grad_norm': nan, 'learning_rate': 1.3673388691182286e-05, 'epoch': 0.95}\n"
     ]
    },
    {
     "name": "stderr",
     "output_type": "stream",
     "text": [
      "                                                  \n",
      " 33%|███▎      | 843/2529 [06:27<11:14,  2.50it/s]"
     ]
    },
    {
     "name": "stdout",
     "output_type": "stream",
     "text": [
      "{'eval_loss': nan, 'eval_runtime': 47.6744, 'eval_samples_per_second': 48.202, 'eval_steps_per_second': 6.041, 'epoch': 1.0}\n"
     ]
    },
    {
     "name": "stderr",
     "output_type": "stream",
     "text": [
      " 36%|███▌      | 900/2529 [06:50<10:44,  2.53it/s]  "
     ]
    },
    {
     "name": "stdout",
     "output_type": "stream",
     "text": [
      "{'loss': 0.0, 'grad_norm': nan, 'learning_rate': 1.2882562277580073e-05, 'epoch': 1.07}\n"
     ]
    },
    {
     "name": "stderr",
     "output_type": "stream",
     "text": [
      " 40%|███▉      | 1000/2529 [07:30<10:04,  2.53it/s]"
     ]
    },
    {
     "name": "stdout",
     "output_type": "stream",
     "text": [
      "{'loss': 0.0, 'grad_norm': nan, 'learning_rate': 1.2091735863977859e-05, 'epoch': 1.19}\n"
     ]
    },
    {
     "name": "stderr",
     "output_type": "stream",
     "text": [
      " 43%|████▎     | 1100/2529 [08:10<09:27,  2.52it/s]"
     ]
    },
    {
     "name": "stdout",
     "output_type": "stream",
     "text": [
      "{'loss': 0.0, 'grad_norm': nan, 'learning_rate': 1.1300909450375643e-05, 'epoch': 1.3}\n"
     ]
    },
    {
     "name": "stderr",
     "output_type": "stream",
     "text": [
      " 47%|████▋     | 1200/2529 [08:50<08:58,  2.47it/s]"
     ]
    },
    {
     "name": "stdout",
     "output_type": "stream",
     "text": [
      "{'loss': 0.0, 'grad_norm': nan, 'learning_rate': 1.0510083036773429e-05, 'epoch': 1.42}\n"
     ]
    },
    {
     "name": "stderr",
     "output_type": "stream",
     "text": [
      " 51%|█████▏    | 1300/2529 [09:31<08:19,  2.46it/s]"
     ]
    },
    {
     "name": "stdout",
     "output_type": "stream",
     "text": [
      "{'loss': 0.0, 'grad_norm': nan, 'learning_rate': 9.719256623171214e-06, 'epoch': 1.54}\n"
     ]
    },
    {
     "name": "stderr",
     "output_type": "stream",
     "text": [
      " 55%|█████▌    | 1400/2529 [10:12<07:50,  2.40it/s]"
     ]
    },
    {
     "name": "stdout",
     "output_type": "stream",
     "text": [
      "{'loss': 0.0, 'grad_norm': nan, 'learning_rate': 8.928430209569e-06, 'epoch': 1.66}\n"
     ]
    },
    {
     "name": "stderr",
     "output_type": "stream",
     "text": [
      " 59%|█████▉    | 1500/2529 [10:53<06:58,  2.46it/s]"
     ]
    },
    {
     "name": "stdout",
     "output_type": "stream",
     "text": [
      "{'loss': 0.0, 'grad_norm': nan, 'learning_rate': 8.137603795966786e-06, 'epoch': 1.78}\n"
     ]
    },
    {
     "name": "stderr",
     "output_type": "stream",
     "text": [
      " 63%|██████▎   | 1600/2529 [11:34<06:25,  2.41it/s]"
     ]
    },
    {
     "name": "stdout",
     "output_type": "stream",
     "text": [
      "{'loss': 0.0, 'grad_norm': nan, 'learning_rate': 7.3467773823645715e-06, 'epoch': 1.9}\n"
     ]
    },
    {
     "name": "stderr",
     "output_type": "stream",
     "text": [
      "                                                   \n",
      " 67%|██████▋   | 1686/2529 [12:56<05:37,  2.50it/s]"
     ]
    },
    {
     "name": "stdout",
     "output_type": "stream",
     "text": [
      "{'eval_loss': nan, 'eval_runtime': 47.823, 'eval_samples_per_second': 48.052, 'eval_steps_per_second': 6.022, 'epoch': 2.0}\n"
     ]
    },
    {
     "name": "stderr",
     "output_type": "stream",
     "text": [
      " 67%|██████▋   | 1700/2529 [13:02<07:28,  1.85it/s]  "
     ]
    },
    {
     "name": "stdout",
     "output_type": "stream",
     "text": [
      "{'loss': 0.0, 'grad_norm': nan, 'learning_rate': 6.555950968762357e-06, 'epoch': 2.02}\n"
     ]
    },
    {
     "name": "stderr",
     "output_type": "stream",
     "text": [
      " 71%|███████   | 1800/2529 [13:42<04:49,  2.52it/s]"
     ]
    },
    {
     "name": "stdout",
     "output_type": "stream",
     "text": [
      "{'loss': 0.0, 'grad_norm': nan, 'learning_rate': 5.765124555160143e-06, 'epoch': 2.14}\n"
     ]
    },
    {
     "name": "stderr",
     "output_type": "stream",
     "text": [
      " 75%|███████▌  | 1900/2529 [14:22<04:10,  2.51it/s]"
     ]
    },
    {
     "name": "stdout",
     "output_type": "stream",
     "text": [
      "{'loss': 0.0, 'grad_norm': nan, 'learning_rate': 4.974298141557929e-06, 'epoch': 2.25}\n"
     ]
    },
    {
     "name": "stderr",
     "output_type": "stream",
     "text": [
      " 79%|███████▉  | 2000/2529 [15:02<03:32,  2.49it/s]"
     ]
    },
    {
     "name": "stdout",
     "output_type": "stream",
     "text": [
      "{'loss': 0.0, 'grad_norm': nan, 'learning_rate': 4.183471727955714e-06, 'epoch': 2.37}\n"
     ]
    },
    {
     "name": "stderr",
     "output_type": "stream",
     "text": [
      " 83%|████████▎ | 2100/2529 [15:42<02:49,  2.53it/s]"
     ]
    },
    {
     "name": "stdout",
     "output_type": "stream",
     "text": [
      "{'loss': 0.0, 'grad_norm': nan, 'learning_rate': 3.3926453143535e-06, 'epoch': 2.49}\n"
     ]
    },
    {
     "name": "stderr",
     "output_type": "stream",
     "text": [
      " 87%|████████▋ | 2200/2529 [16:22<02:10,  2.51it/s]"
     ]
    },
    {
     "name": "stdout",
     "output_type": "stream",
     "text": [
      "{'loss': 0.0, 'grad_norm': nan, 'learning_rate': 2.601818900751285e-06, 'epoch': 2.61}\n"
     ]
    },
    {
     "name": "stderr",
     "output_type": "stream",
     "text": [
      " 91%|█████████ | 2300/2529 [17:02<01:33,  2.44it/s]"
     ]
    },
    {
     "name": "stdout",
     "output_type": "stream",
     "text": [
      "{'loss': 0.0, 'grad_norm': nan, 'learning_rate': 1.8109924871490709e-06, 'epoch': 2.73}\n"
     ]
    },
    {
     "name": "stderr",
     "output_type": "stream",
     "text": [
      " 95%|█████████▍| 2400/2529 [17:44<00:52,  2.46it/s]"
     ]
    },
    {
     "name": "stdout",
     "output_type": "stream",
     "text": [
      "{'loss': 0.0, 'grad_norm': nan, 'learning_rate': 1.0201660735468566e-06, 'epoch': 2.85}\n"
     ]
    },
    {
     "name": "stderr",
     "output_type": "stream",
     "text": [
      " 99%|█████████▉| 2500/2529 [18:26<00:12,  2.37it/s]"
     ]
    },
    {
     "name": "stdout",
     "output_type": "stream",
     "text": [
      "{'loss': 0.0, 'grad_norm': nan, 'learning_rate': 2.2933965994464219e-07, 'epoch': 2.97}\n"
     ]
    },
    {
     "name": "stderr",
     "output_type": "stream",
     "text": [
      "                                                   \n",
      "100%|██████████| 2529/2529 [19:26<00:00,  2.17it/s]\n"
     ]
    },
    {
     "name": "stdout",
     "output_type": "stream",
     "text": [
      "{'eval_loss': nan, 'eval_runtime': 47.7392, 'eval_samples_per_second': 48.137, 'eval_steps_per_second': 6.033, 'epoch': 3.0}\n",
      "{'train_runtime': 1166.7359, 'train_samples_per_second': 17.333, 'train_steps_per_second': 2.168, 'train_loss': 0.03519814680950969, 'epoch': 3.0}\n"
     ]
    },
    {
     "data": {
      "image/png": "[encoded data removed]",
      "text/plain": [
       "<Figure size 640x480 with 1 Axes>"
      ]
     },
     "metadata": {},
     "output_type": "display_data"
    },
    {
     "name": "stdout",
     "output_type": "stream",
     "text": [
      "Memoria usada en GPU: 1012.21 MB\n"
     ]
    }
   ],
   "source": [
    "# TODO \n",
    "# Cargar modelo con cuantización de BitsAndBytes\n",
    "model_name = \"google/flan-t5-large\"\n",
    "tokenizer = AutoTokenizer.from_pretrained(model_name)\n",
    "\n",
    "\n",
    "quantization_config = BitsAndBytesConfig(load_in_4bit=True, bnb_4bit_quant_type=\"nf4\", bnb_4bit_compute_dtype=\"float16\", bnb_4bit_use_double_quant=True)\n",
    "\n",
    "\n",
    "model = AutoModelForSequenceClassification.from_pretrained(\n",
    "    model_name,\n",
    "    num_labels=3,\n",
    "    device_map=\"auto\",  \n",
    "    quantization_config=quantization_config,  # Cuantización de 4 bits\n",
    ")\n",
    "\n",
    "lora_config = LoraConfig(\n",
    "    task_type=TaskType.SEQ_2_SEQ_LM,\n",
    "    inference_mode=False,\n",
    "    r=8,  \n",
    "    lora_alpha=16,\n",
    "    lora_dropout=0.1,\n",
    ")\n",
    "\n",
    "# Convertir el modelo con LoRA\n",
    "peft_model = get_peft_model(model, lora_config)\n",
    "peft_model.to(device)\n",
    "\n",
    "# Verificar parámetros entrenables\n",
    "peft_model.print_trainable_parameters()\n",
    "\n",
    "# Argumentos de entrenamiento\n",
    "training_args = TrainingArguments(\n",
    "    output_dir=\"./results\",  \n",
    "    eval_strategy=\"epoch\",  \n",
    "    learning_rate=2e-5,  \n",
    "    per_device_train_batch_size=8,  \n",
    "    per_device_eval_batch_size=8, \n",
    "    num_train_epochs=3,  \n",
    "    weight_decay=0.01,\n",
    "    logging_dir='./logs',  \n",
    "    logging_steps=100, \n",
    "    save_steps=1000, \n",
    "    eval_steps=500,  \n",
    ")\n",
    "\n",
    "# Trainer\n",
    "trainer = Trainer(\n",
    "    model=peft_model,\n",
    "    args=training_args,\n",
    "    train_dataset=train_data,\n",
    "    eval_dataset=dev_data,\n",
    "    tokenizer=tokenizer,\n",
    ")\n",
    "\n",
    "# Entrenar el modelo\n",
    "trainer.train()\n",
    "\n",
    "# Obtener historial del entrenamiento\n",
    "history = trainer.state.log_history\n",
    "\n",
    "# Graficar curvas de pérdida\n",
    "train_loss = [x[\"loss\"] for x in history if \"loss\" in x]\n",
    "eval_loss = [x[\"eval_loss\"] for x in history if \"eval_loss\" in x]\n",
    "steps = list(range(len(train_loss)))\n",
    "\n",
    "plt.plot(steps, train_loss, label=\"Training Loss\")\n",
    "plt.plot(steps[:len(eval_loss)], eval_loss, label=\"Validation Loss\")\n",
    "plt.xlabel(\"Steps\")\n",
    "plt.ylabel(\"Loss\")\n",
    "plt.legend()\n",
    "plt.show()\n",
    "\n",
    "# Comparación de memoria\n",
    "print(f\"Memoria usada en GPU: {torch.cuda.memory_allocated() / 1e6:.2f} MB\")"
   ]
  },
  {
   "cell_type": "code",
   "execution_count": null,
   "id": "420fb041",
   "metadata": {},
   "outputs": [],
   "source": [
    "# No logre ejecutar el modelo con cuantización de 8 bits, me arroja el siguiente error :(\n",
    "# Link a un hilo con mi mismo problema: \n",
    "# https://discuss.huggingface.co/t/normal-kernel-cpu-not-implemented-for-char-when-trying-to-import-8-bit-model/72349/3\n",
    "# https://github.com/bitsandbytes-foundation/bitsandbytes/issues/1097\n",
    "\n",
    "# Cargar modelo con cuantización de BitsAndBytes\n",
    "model_name = \"google/flan-t5-large\"\n",
    "tokenizer = AutoTokenizer.from_pretrained(model_name)\n",
    "#8 bits\n",
    "quantization_config = BitsAndBytesConfig(\n",
    "    load_in_8bit=True,\n",
    ")\n",
    "\n",
    "\n",
    "model = AutoModelForSequenceClassification.from_pretrained(\n",
    "    model_name,\n",
    "    num_labels=3,\n",
    "    device_map=\"auto\",\n",
    "    quantization_config=quantization_config,  # Cuantización de 8 bits\n",
    "    torch_dtype=torch.float32,\n",
    ")\n",
    "\n",
    "lora_config = LoraConfig(\n",
    "    task_type=TaskType.SEQ_2_SEQ_LM,\n",
    "    inference_mode=False,\n",
    "    r=8,  \n",
    "    lora_alpha=16,\n",
    "    lora_dropout=0.1,\n",
    ")\n",
    "\n",
    "# Convertir el modelo con LoRA\n",
    "peft_model = get_peft_model(model, lora_config)\n",
    "peft_model.to(device)\n",
    "\n",
    "# Verificar parámetros entrenables\n",
    "peft_model.print_trainable_parameters()\n",
    "\n",
    "# Argumentos de entrenamiento\n",
    "training_args = TrainingArguments(\n",
    "    output_dir=\"./results\",  \n",
    "    eval_strategy=\"epoch\",  \n",
    "    learning_rate=2e-5,  \n",
    "    per_device_train_batch_size=8,  \n",
    "    per_device_eval_batch_size=8, \n",
    "    num_train_epochs=3,  \n",
    "    weight_decay=0.01,\n",
    "    logging_dir='./logs',  \n",
    "    logging_steps=100, \n",
    "    save_steps=1000, \n",
    "    eval_steps=500,  \n",
    ")\n",
    "\n",
    "# Trainer\n",
    "trainer = Trainer(\n",
    "    model=peft_model,\n",
    "    args=training_args,\n",
    "    train_dataset=train_data,\n",
    "    eval_dataset=dev_data,\n",
    "    tokenizer=tokenizer,\n",
    ")\n",
    "\n",
    "\n",
    "# Entrenar el modelo\n",
    "trainer.train()\n",
    "\n",
    "# Obtener historial del entrenamiento\n",
    "history = trainer.state.log_history\n",
    "\n",
    "# Graficar curvas de pérdida\n",
    "train_loss = [x[\"loss\"] for x in history if \"loss\" in x]\n",
    "eval_loss = [x[\"eval_loss\"] for x in history if \"eval_loss\" in x]\n",
    "steps = list(range(len(train_loss)))\n",
    "\n",
    "plt.plot(steps, train_loss, label=\"Training Loss\")\n",
    "plt.plot(steps[:len(eval_loss)], eval_loss, label=\"Validation Loss\")\n",
    "plt.xlabel(\"Steps\")\n",
    "plt.ylabel(\"Loss\")\n",
    "plt.legend()\n",
    "plt.show()\n",
    "\n",
    "# Comparación de memoria\n",
    "print(f\"Memoria usada en GPU: {torch.cuda.memory_allocated() / 1e6:.2f} MB\")\n"
   ]
  },
  {
   "cell_type": "markdown",
   "id": "ae1ddde5-b0dd-4094-8665-b220fa38a8c3",
   "metadata": {},
   "source": [
    "## Preguntas\n",
    "\n",
    "* Cuánta memoria se puede ahorrar?\n",
    "* Cuál es el interés de esta técnica?"
   ]
  },
  {
   "cell_type": "markdown",
   "id": "0598af91-0c89-409b-8fc1-b9bd6b02e62e",
   "metadata": {},
   "source": [
    "**Respuestas**\n",
    "\n",
    "* Teoricamente al pasar de una representación por defecto de 32 bits a una de  8 0 4 bits se puede pasar a un modelo que ocupa 1/4 o 1/8 respectivamente del original sin tener que disminuir la cantidad de parámetros, en la practica con el modelo de 4 bits tuvimos un uso de VRam de 1gb aproximadamente vs que el modelo por defecto (usando LoRA) nos dio un consumo de VRam de aproximadamente 3gb, lo que si bien es significativo no llega a la diferencia esperada\n",
    "\n",
    "* El interés de esta técnica es que permite usar modelos grandes y finetunearlos con recursos limitados sin tener que disminuir el número de parámetros a entrenar. Pero el costo de usar esta tecnica es perder precisión de los valores de cada parametros ya que se pasa de ser representados por 32 bits a 4 u 8 bits solamente"
   ]
  }
 ],
 "metadata": {
  "kernelspec": {
   "display_name": "Python 3 (ipykernel)",
   "language": "python",
   "name": "python3"
  },
  "language_info": {
   "codemirror_mode": {
    "name": "ipython",
    "version": 3
   },
   "file_extension": ".py",
   "mimetype": "text/x-python",
   "name": "python",
   "nbconvert_exporter": "python",
   "pygments_lexer": "ipython3",
   "version": "3.12.2"
  }
 },
 "nbformat": 4,
 "nbformat_minor": 5
}
